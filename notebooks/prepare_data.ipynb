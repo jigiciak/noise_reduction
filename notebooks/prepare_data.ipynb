{
  "nbformat": 4,
  "nbformat_minor": 0,
  "metadata": {
    "colab": {
      "name": "Noise Reduction - download data.ipynb",
      "provenance": [],
      "collapsed_sections": [],
      "toc_visible": true
    },
    "kernelspec": {
      "name": "python3",
      "display_name": "Python 3"
    },
    "language_info": {
      "name": "python"
    }
  },
  "cells": [
    {
      "cell_type": "markdown",
      "metadata": {
        "id": "0Fz9PD-jj4dK"
      },
      "source": [
        "# Pre-prepare data for noise reduction\n",
        "\n",
        "This notebook is for collecting raw data (clean voice and noises) and organize them in the way that is required for the next step, i.e. creating actual training data for DNN."
      ]
    },
    {
      "cell_type": "markdown",
      "metadata": {
        "id": "wXyL7wDSX9oc"
      },
      "source": [
        "## Download dataset"
      ]
    },
    {
      "cell_type": "code",
      "metadata": {
        "colab": {
          "base_uri": "https://localhost:8080/"
        },
        "id": "xxlOe6aWXeSS",
        "outputId": "9fb6bf65-d4d0-4a28-fee4-bd6d4a4db57d"
      },
      "source": [
        "!wget https://github.com/karoldvl/ESC-50/archive/master.zip"
      ],
      "execution_count": 1,
      "outputs": [
        {
          "output_type": "stream",
          "text": [
            "--2021-05-26 10:22:20--  https://github.com/karoldvl/ESC-50/archive/master.zip\n",
            "Resolving github.com (github.com)... 140.82.113.3\n",
            "Connecting to github.com (github.com)|140.82.113.3|:443... connected.\n",
            "HTTP request sent, awaiting response... 301 Moved Permanently\n",
            "Location: https://github.com/karolpiczak/ESC-50/archive/master.zip [following]\n",
            "--2021-05-26 10:22:20--  https://github.com/karolpiczak/ESC-50/archive/master.zip\n",
            "Reusing existing connection to github.com:443.\n",
            "HTTP request sent, awaiting response... 302 Found\n",
            "Location: https://codeload.github.com/karolpiczak/ESC-50/zip/master [following]\n",
            "--2021-05-26 10:22:20--  https://codeload.github.com/karolpiczak/ESC-50/zip/master\n",
            "Resolving codeload.github.com (codeload.github.com)... 140.82.113.10\n",
            "Connecting to codeload.github.com (codeload.github.com)|140.82.113.10|:443... connected.\n",
            "HTTP request sent, awaiting response... 200 OK\n",
            "Length: unspecified [application/zip]\n",
            "Saving to: ‘master.zip’\n",
            "\n",
            "master.zip              [   <=>              ] 615.78M  13.0MB/s    in 43s     \n",
            "\n",
            "2021-05-26 10:23:04 (14.2 MB/s) - ‘master.zip’ saved [645694170]\n",
            "\n"
          ],
          "name": "stdout"
        }
      ]
    },
    {
      "cell_type": "code",
      "metadata": {
        "colab": {
          "base_uri": "https://localhost:8080/"
        },
        "id": "JREIjIzbXmrb",
        "outputId": "da83e060-bc84-448f-d451-acd1857a814a"
      },
      "source": [
        "!wget https://www.openslr.org/resources/12/dev-clean.tar.gz"
      ],
      "execution_count": 2,
      "outputs": [
        {
          "output_type": "stream",
          "text": [
            "--2021-05-26 10:23:04--  https://www.openslr.org/resources/12/dev-clean.tar.gz\n",
            "Resolving www.openslr.org (www.openslr.org)... 46.101.158.64\n",
            "Connecting to www.openslr.org (www.openslr.org)|46.101.158.64|:443... connected.\n",
            "HTTP request sent, awaiting response... 200 OK\n",
            "Length: 337926286 (322M) [application/x-gzip]\n",
            "Saving to: ‘dev-clean.tar.gz’\n",
            "\n",
            "dev-clean.tar.gz    100%[===================>] 322.27M  27.5MB/s    in 13s     \n",
            "\n",
            "2021-05-26 10:23:17 (25.2 MB/s) - ‘dev-clean.tar.gz’ saved [337926286/337926286]\n",
            "\n"
          ],
          "name": "stdout"
        }
      ]
    },
    {
      "cell_type": "markdown",
      "metadata": {
        "id": "hQCo_tRKX_yU"
      },
      "source": [
        "## Uncompressing datasets"
      ]
    },
    {
      "cell_type": "code",
      "metadata": {
        "id": "B_6XlGYmXqLp"
      },
      "source": [
        "!unzip -q master.zip -d ."
      ],
      "execution_count": 3,
      "outputs": []
    },
    {
      "cell_type": "code",
      "metadata": {
        "id": "aD3j9pWrYA7J"
      },
      "source": [
        "!tar -xf dev-clean.tar.gz"
      ],
      "execution_count": 4,
      "outputs": []
    },
    {
      "cell_type": "markdown",
      "metadata": {
        "id": "6IRfH8yiYdhD"
      },
      "source": [
        "## Unpacking files from LibriSpeech to `clean_voice`"
      ]
    },
    {
      "cell_type": "code",
      "metadata": {
        "id": "pnsu8sBlieOT"
      },
      "source": [
        "from pathlib import Path\n",
        "\n",
        "def make_dir(path):\n",
        "  try:\n",
        "      os.makedirs(path)\n",
        "  except OSError:\n",
        "      print (\"Creation of the directory %s failed\" % path)\n",
        "  else:\n",
        "      print (\"Successfully created the directory %s \" % path)"
      ],
      "execution_count": 5,
      "outputs": []
    },
    {
      "cell_type": "code",
      "metadata": {
        "colab": {
          "base_uri": "https://localhost:8080/"
        },
        "id": "l49Kzr-RYZ_y",
        "outputId": "d298cc97-c224-48cb-ce0c-222c3f2b7184"
      },
      "source": [
        "from shutil import copyfile\n",
        "import os\n",
        "\n",
        "# Create output dir\n",
        "output_dir = './clean_voice'\n",
        "make_dir(output_dir)\n",
        "\n",
        "# Copy all .flac files\n",
        "for path in Path('LibriSpeech').rglob('*.flac'):\n",
        "  copyfile(path, Path(output_dir, path.name))"
      ],
      "execution_count": 6,
      "outputs": [
        {
          "output_type": "stream",
          "text": [
            "Successfully created the directory ./clean_voice \n"
          ],
          "name": "stdout"
        }
      ]
    },
    {
      "cell_type": "code",
      "metadata": {
        "colab": {
          "base_uri": "https://localhost:8080/"
        },
        "id": "vE9VRfP2Y4FZ",
        "outputId": "1f3574d3-7cde-4f53-80de-c6ba49bc44e7"
      },
      "source": [
        "!ls ./Data/clean_voice | head"
      ],
      "execution_count": 7,
      "outputs": [
        {
          "output_type": "stream",
          "text": [
            "ls: cannot access './Data/clean_voice': No such file or directory\n"
          ],
          "name": "stdout"
        }
      ]
    },
    {
      "cell_type": "markdown",
      "metadata": {
        "id": "U3Zs9U2pbH9w"
      },
      "source": [
        "## Unpacking files from ESC to `noises`\n",
        "\n",
        "Firstly I've uploaded manually `esc50.csv` from `docs/` to Google Colab."
      ]
    },
    {
      "cell_type": "code",
      "metadata": {
        "colab": {
          "base_uri": "https://localhost:8080/"
        },
        "id": "OSYWSCOING_C",
        "outputId": "464a96f2-8318-4f70-b596-506b133e37c2"
      },
      "source": [
        "!git clone https://github.com/karlosos/noise_reduction"
      ],
      "execution_count": 9,
      "outputs": [
        {
          "output_type": "stream",
          "text": [
            "Cloning into 'noise_reduction'...\n",
            "remote: Enumerating objects: 52, done.\u001b[K\n",
            "remote: Counting objects: 100% (52/52), done.\u001b[K\n",
            "remote: Compressing objects: 100% (41/41), done.\u001b[K\n",
            "remote: Total 52 (delta 8), reused 47 (delta 7), pack-reused 0\u001b[K\n",
            "Unpacking objects: 100% (52/52), done.\n"
          ],
          "name": "stdout"
        }
      ]
    },
    {
      "cell_type": "code",
      "metadata": {
        "id": "zQzlhBl3aPyA"
      },
      "source": [
        "import pandas as pd\n",
        "df = pd.read_csv('noise_reduction/docs/esc50.csv')"
      ],
      "execution_count": 10,
      "outputs": []
    },
    {
      "cell_type": "code",
      "metadata": {
        "colab": {
          "base_uri": "https://localhost:8080/",
          "height": 204
        },
        "id": "88QvhvlGbYTC",
        "outputId": "5dc458ae-478e-488b-a2fa-75826145f760"
      },
      "source": [
        "df.head()"
      ],
      "execution_count": 11,
      "outputs": [
        {
          "output_type": "execute_result",
          "data": {
            "text/html": [
              "<div>\n",
              "<style scoped>\n",
              "    .dataframe tbody tr th:only-of-type {\n",
              "        vertical-align: middle;\n",
              "    }\n",
              "\n",
              "    .dataframe tbody tr th {\n",
              "        vertical-align: top;\n",
              "    }\n",
              "\n",
              "    .dataframe thead th {\n",
              "        text-align: right;\n",
              "    }\n",
              "</style>\n",
              "<table border=\"1\" class=\"dataframe\">\n",
              "  <thead>\n",
              "    <tr style=\"text-align: right;\">\n",
              "      <th></th>\n",
              "      <th>filename</th>\n",
              "      <th>fold</th>\n",
              "      <th>target</th>\n",
              "      <th>category</th>\n",
              "      <th>esc10</th>\n",
              "      <th>src_file</th>\n",
              "      <th>take</th>\n",
              "    </tr>\n",
              "  </thead>\n",
              "  <tbody>\n",
              "    <tr>\n",
              "      <th>0</th>\n",
              "      <td>1-100032-A-0.wav</td>\n",
              "      <td>1</td>\n",
              "      <td>0</td>\n",
              "      <td>dog</td>\n",
              "      <td>True</td>\n",
              "      <td>100032</td>\n",
              "      <td>A</td>\n",
              "    </tr>\n",
              "    <tr>\n",
              "      <th>1</th>\n",
              "      <td>1-100038-A-14.wav</td>\n",
              "      <td>1</td>\n",
              "      <td>14</td>\n",
              "      <td>chirping_birds</td>\n",
              "      <td>False</td>\n",
              "      <td>100038</td>\n",
              "      <td>A</td>\n",
              "    </tr>\n",
              "    <tr>\n",
              "      <th>2</th>\n",
              "      <td>1-100210-A-36.wav</td>\n",
              "      <td>1</td>\n",
              "      <td>36</td>\n",
              "      <td>vacuum_cleaner</td>\n",
              "      <td>False</td>\n",
              "      <td>100210</td>\n",
              "      <td>A</td>\n",
              "    </tr>\n",
              "    <tr>\n",
              "      <th>3</th>\n",
              "      <td>1-100210-B-36.wav</td>\n",
              "      <td>1</td>\n",
              "      <td>36</td>\n",
              "      <td>vacuum_cleaner</td>\n",
              "      <td>False</td>\n",
              "      <td>100210</td>\n",
              "      <td>B</td>\n",
              "    </tr>\n",
              "    <tr>\n",
              "      <th>4</th>\n",
              "      <td>1-101296-A-19.wav</td>\n",
              "      <td>1</td>\n",
              "      <td>19</td>\n",
              "      <td>thunderstorm</td>\n",
              "      <td>False</td>\n",
              "      <td>101296</td>\n",
              "      <td>A</td>\n",
              "    </tr>\n",
              "  </tbody>\n",
              "</table>\n",
              "</div>"
            ],
            "text/plain": [
              "            filename  fold  target        category  esc10  src_file take\n",
              "0   1-100032-A-0.wav     1       0             dog   True    100032    A\n",
              "1  1-100038-A-14.wav     1      14  chirping_birds  False    100038    A\n",
              "2  1-100210-A-36.wav     1      36  vacuum_cleaner  False    100210    A\n",
              "3  1-100210-B-36.wav     1      36  vacuum_cleaner  False    100210    B\n",
              "4  1-101296-A-19.wav     1      19    thunderstorm  False    101296    A"
            ]
          },
          "metadata": {
            "tags": []
          },
          "execution_count": 11
        }
      ]
    },
    {
      "cell_type": "markdown",
      "metadata": {
        "id": "GmWUAYo_b-1d"
      },
      "source": [
        "### Dostępne dźwięki"
      ]
    },
    {
      "cell_type": "code",
      "metadata": {
        "colab": {
          "base_uri": "https://localhost:8080/"
        },
        "id": "Sfel94m3bed9",
        "outputId": "3992875b-41df-4df1-817f-abca3d32dae6"
      },
      "source": [
        "import numpy as np\n",
        "np.unique(list(df['category']))"
      ],
      "execution_count": 12,
      "outputs": [
        {
          "output_type": "execute_result",
          "data": {
            "text/plain": [
              "array(['airplane', 'breathing', 'brushing_teeth', 'can_opening',\n",
              "       'car_horn', 'cat', 'chainsaw', 'chirping_birds', 'church_bells',\n",
              "       'clapping', 'clock_alarm', 'clock_tick', 'coughing', 'cow',\n",
              "       'crackling_fire', 'crickets', 'crow', 'crying_baby', 'dog',\n",
              "       'door_wood_creaks', 'door_wood_knock', 'drinking_sipping',\n",
              "       'engine', 'fireworks', 'footsteps', 'frog', 'glass_breaking',\n",
              "       'hand_saw', 'helicopter', 'hen', 'insects', 'keyboard_typing',\n",
              "       'laughing', 'mouse_click', 'pig', 'pouring_water', 'rain',\n",
              "       'rooster', 'sea_waves', 'sheep', 'siren', 'sneezing', 'snoring',\n",
              "       'thunderstorm', 'toilet_flush', 'train', 'vacuum_cleaner',\n",
              "       'washing_machine', 'water_drops', 'wind'], dtype='<U16')"
            ]
          },
          "metadata": {
            "tags": []
          },
          "execution_count": 12
        }
      ]
    },
    {
      "cell_type": "code",
      "metadata": {
        "id": "AmqBTpQdb4LP"
      },
      "source": [
        "chosen_noises = ['mouse_click', 'keyboard_typing', 'chirping_birds']"
      ],
      "execution_count": 13,
      "outputs": []
    },
    {
      "cell_type": "code",
      "metadata": {
        "colab": {
          "base_uri": "https://localhost:8080/"
        },
        "id": "nYR4M4zZfVMr",
        "outputId": "abf7a518-5f40-45d3-c411-8eddbcd6854d"
      },
      "source": [
        "filenames = []\n",
        "for category_name in chosen_noises:\n",
        "  filenames += list(df.loc[df['category'] == category_name]['filename'])\n",
        "\n",
        "print(f\"Chosen {len(filenames)} files.\")"
      ],
      "execution_count": 14,
      "outputs": [
        {
          "output_type": "stream",
          "text": [
            "Chosen 120 files.\n"
          ],
          "name": "stdout"
        }
      ]
    },
    {
      "cell_type": "markdown",
      "metadata": {
        "id": "zSVTXTsMcjyl"
      },
      "source": [
        "### Copy chosen noises from ESC-50-master to ./Data/noises/"
      ]
    },
    {
      "cell_type": "code",
      "metadata": {
        "colab": {
          "base_uri": "https://localhost:8080/"
        },
        "id": "6AppAkWRcJJP",
        "outputId": "1fcc3ea0-5bc8-421f-f256-b7ac67057c59"
      },
      "source": [
        "# Create output dir\n",
        "output_dir = './noises'\n",
        "make_dir(output_dir)\n",
        "\n",
        "# Copy all .flac files\n",
        "for name in filenames:\n",
        "  copyfile(Path('./ESC-50-master/audio/', name), Path(output_dir, name))"
      ],
      "execution_count": 15,
      "outputs": [
        {
          "output_type": "stream",
          "text": [
            "Successfully created the directory ./noises \n"
          ],
          "name": "stdout"
        }
      ]
    },
    {
      "cell_type": "markdown",
      "metadata": {
        "id": "jSmb_FtugD3X"
      },
      "source": [
        "## Split data to `train` and `test` folders"
      ]
    },
    {
      "cell_type": "code",
      "metadata": {
        "id": "2sgeDoY7guY_"
      },
      "source": [
        "from sklearn.model_selection import train_test_split"
      ],
      "execution_count": 16,
      "outputs": []
    },
    {
      "cell_type": "code",
      "metadata": {
        "id": "vE4hXHArhHPW"
      },
      "source": [
        "clean_voices = list(Path('./clean_voice').glob('*.*'))\n",
        "noises = list(Path('./noises').glob('*.*'))\n",
        "clean_voices_train, clean_voices_test = train_test_split(clean_voices, test_size=0.2, random_state=42)\n",
        "noises_train, noises_test = train_test_split(noises, test_size=0.2, random_state=42)"
      ],
      "execution_count": 17,
      "outputs": []
    },
    {
      "cell_type": "code",
      "metadata": {
        "colab": {
          "base_uri": "https://localhost:8080/"
        },
        "id": "Rg_PTXndhpVR",
        "outputId": "4ab55675-53b3-48f6-ca6d-3f9000935c8b"
      },
      "source": [
        "train_clean_voices_dir = './data/train/clean_voice/'\n",
        "make_dir(train_clean_voices_dir)\n",
        "\n",
        "for path in clean_voices_train:\n",
        "  copyfile(path, Path(train_clean_voices_dir, path.name))"
      ],
      "execution_count": 18,
      "outputs": [
        {
          "output_type": "stream",
          "text": [
            "Successfully created the directory ./data/train/clean_voice/ \n"
          ],
          "name": "stdout"
        }
      ]
    },
    {
      "cell_type": "code",
      "metadata": {
        "colab": {
          "base_uri": "https://localhost:8080/"
        },
        "id": "eBytiltlhqPM",
        "outputId": "61d70e29-7e76-438c-f670-47955ecd48d3"
      },
      "source": [
        "test_clean_voices_dir = './data/test/clean_voice/'\n",
        "make_dir(test_clean_voices_dir)\n",
        "\n",
        "for path in clean_voices_test:\n",
        "  copyfile(path, Path(test_clean_voices_dir, path.name))"
      ],
      "execution_count": 19,
      "outputs": [
        {
          "output_type": "stream",
          "text": [
            "Successfully created the directory ./data/test/clean_voice/ \n"
          ],
          "name": "stdout"
        }
      ]
    },
    {
      "cell_type": "code",
      "metadata": {
        "colab": {
          "base_uri": "https://localhost:8080/"
        },
        "id": "fxtsmUuoin0t",
        "outputId": "5b11e2fc-de7a-41b8-ea12-e3c3655e27e7"
      },
      "source": [
        "train_noises_dir = './data/train/noise/'\n",
        "make_dir(train_noises_dir)\n",
        "\n",
        "for path in noises_train:\n",
        "  copyfile(path, Path(train_noises_dir, path.name))"
      ],
      "execution_count": 20,
      "outputs": [
        {
          "output_type": "stream",
          "text": [
            "Successfully created the directory ./data/train/noise/ \n"
          ],
          "name": "stdout"
        }
      ]
    },
    {
      "cell_type": "code",
      "metadata": {
        "colab": {
          "base_uri": "https://localhost:8080/"
        },
        "id": "KbH0q_16ivXm",
        "outputId": "1297215b-ee2d-4b77-e6f1-1c050b3b1058"
      },
      "source": [
        "test_noises_dir = './data/test/noise/'\n",
        "make_dir(test_noises_dir)\n",
        "\n",
        "for path in noises_test:\n",
        "  copyfile(path, Path(test_noises_dir, path.name))"
      ],
      "execution_count": 21,
      "outputs": [
        {
          "output_type": "stream",
          "text": [
            "Successfully created the directory ./data/test/noise/ \n"
          ],
          "name": "stdout"
        }
      ]
    },
    {
      "cell_type": "markdown",
      "metadata": {
        "id": "ocKSVyJMMnZC"
      },
      "source": [
        "# Data preparation\n",
        "\n",
        "In this step we create augmented sounds with artificially added noises. Single long audio is created with clean voices, with noise and with noised voice. For each audio we also calculate spectrogram."
      ]
    },
    {
      "cell_type": "code",
      "metadata": {
        "colab": {
          "base_uri": "https://localhost:8080/"
        },
        "id": "7BOd4SFyMmTC",
        "outputId": "f7cfc6fb-ae4f-4a2a-f156-456a677e6197"
      },
      "source": [
        "!python noise_reduction/create_dataset.py"
      ],
      "execution_count": 25,
      "outputs": [
        {
          "output_type": "stream",
          "text": [
            "Successfully created the directory ./data/train/timeseries/ \n",
            "Successfully created the directory ./data/train/combined_sound/ \n",
            "Successfully created the directory ./data/train/spectogram/ \n",
            "Successfully created the directory ./data/test/timeseries/ \n",
            "Successfully created the directory ./data/test/combined_sound/ \n",
            "Successfully created the directory ./data/test/spectogram/ \n"
          ],
          "name": "stdout"
        }
      ]
    },
    {
      "cell_type": "markdown",
      "metadata": {
        "id": "xyJLiBbgi7Oy"
      },
      "source": [
        "## Save data to google drive"
      ]
    },
    {
      "cell_type": "code",
      "metadata": {
        "id": "DTEisEe1izhi"
      },
      "source": [
        " !zip -qr data.zip data/ "
      ],
      "execution_count": 27,
      "outputs": []
    },
    {
      "cell_type": "code",
      "metadata": {
        "id": "ZnnQ59pGjFHG",
        "colab": {
          "base_uri": "https://localhost:8080/"
        },
        "outputId": "ad48998e-3b26-4bac-8691-e7d66322620e"
      },
      "source": [
        "from google.colab import drive\n",
        "drive.mount('/content/gdrive')"
      ],
      "execution_count": 23,
      "outputs": [
        {
          "output_type": "stream",
          "text": [
            "Mounted at /content/gdrive\n"
          ],
          "name": "stdout"
        }
      ]
    },
    {
      "cell_type": "code",
      "metadata": {
        "id": "C0ghEtmxjhcR"
      },
      "source": [
        "#!mkdir /content/gdrive/MyDrive/noise_reduction/\n",
        "!cp data.zip /content/gdrive/MyDrive/noise_reduction/development_data.zip"
      ],
      "execution_count": 28,
      "outputs": []
    }
  ]
}