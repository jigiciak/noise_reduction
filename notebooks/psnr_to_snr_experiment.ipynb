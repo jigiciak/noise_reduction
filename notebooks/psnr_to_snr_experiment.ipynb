{
 "cells": [
  {
   "cell_type": "code",
   "execution_count": 3,
   "id": "56feed9a",
   "metadata": {},
   "outputs": [],
   "source": [
    "import os, sys, inspect\n",
    "currentdir = os.path.dirname(os.path.abspath(inspect.getfile(inspect.currentframe())))\n",
    "sys.path.append('..')\n",
    "from prediction_denoise import prediction\n",
    "from glob import glob\n",
    "import numpy as np\n",
    "import librosa\n",
    "import IPython.display as ipd\n",
    "from signal_utils import audio_files_to_numpy, numpy_audio_to_matrix_spectrogram, snr_db, psnr, apply_noise\n",
    "from data_plot import plot_spectrogram, plot_3_spectograms\n",
    "import matplotlib.pyplot as plt"
   ]
  },
  {
   "cell_type": "code",
   "execution_count": 4,
   "id": "b9c3d522",
   "metadata": {},
   "outputs": [],
   "source": [
    "def predict(audio_input_prediction, audio_output_prediction, sr=8000, name_model='model_unet', path='..\\\\data\\\\validation\\\\'):\n",
    "    # path to find pre-trained weights / save models\n",
    "    weights_path = '..\\\\data\\\\weights'\n",
    "    # pre trained model\n",
    "    name_model = name_model\n",
    "    # directory where read noisy sound to denoise\n",
    "    audio_dir_prediction = f'{path}noisy_voice'\n",
    "    # directory to save the denoise sound\n",
    "    dir_save_prediction = f'{path}save_prediction\\\\'\n",
    "    # Name noisy sound file to denoise\n",
    "    audio_input_prediction = [audio_input_prediction]\n",
    "    # Name of denoised sound file to save\n",
    "    audio_output_prediction = audio_output_prediction\n",
    "    # Sample rate to read audio\n",
    "    sample_rate = sr\n",
    "    # Minimum duration of audio files to consider\n",
    "    min_duration = 1.0\n",
    "    # Frame length for training data\n",
    "    frame_length = 8064\n",
    "    # hop length for sound files\n",
    "    hop_length_frame = 8064\n",
    "    # nb of points for fft(for spectrogram computation)\n",
    "    n_fft = 255\n",
    "    # hop length for fft\n",
    "    hop_length_fft = 63\n",
    "    \n",
    "    prediction(weights_path, name_model, audio_dir_prediction, dir_save_prediction, audio_input_prediction,\n",
    "               audio_output_prediction, sample_rate, min_duration, frame_length, hop_length_frame, n_fft,\n",
    "               hop_length_fft)"
   ]
  },
  {
   "cell_type": "markdown",
   "id": "dba17ad7",
   "metadata": {},
   "source": [
    "# Comparision of different SNR"
   ]
  },
  {
   "cell_type": "markdown",
   "id": "f3edc03a",
   "metadata": {},
   "source": [
    "## Read clean voices"
   ]
  },
  {
   "cell_type": "code",
   "execution_count": 5,
   "id": "28742856",
   "metadata": {},
   "outputs": [
    {
     "name": "stdout",
     "output_type": "stream",
     "text": [
      "['marcin_clean.wav']\n"
     ]
    }
   ],
   "source": [
    "clean_voices_list = glob('..\\\\data\\\\snr_test\\\\clean_voice\\\\*')\n",
    "clean_voices_list = [os.path.basename(voice) for voice in clean_voices_list]\n",
    "print(clean_voices_list)"
   ]
  },
  {
   "cell_type": "markdown",
   "id": "254cad95",
   "metadata": {},
   "source": [
    "## Read noises"
   ]
  },
  {
   "cell_type": "code",
   "execution_count": 6,
   "id": "66194ec9",
   "metadata": {},
   "outputs": [
    {
     "name": "stdout",
     "output_type": "stream",
     "text": [
      "['birds.wav', 'keyboard.wav']\n"
     ]
    }
   ],
   "source": [
    "noises_list = glob('..\\\\data\\\\snr_test\\\\noise\\\\*')\n",
    "noises_list = [os.path.basename(noise) for noise in noises_list]\n",
    "print(noises_list)"
   ]
  },
  {
   "cell_type": "markdown",
   "id": "f5430864",
   "metadata": {
    "tags": []
   },
   "source": [
    "## Apply noise and compare"
   ]
  },
  {
   "cell_type": "code",
   "execution_count": 27,
   "id": "f975478a-f8c8-4ea5-8cce-39b8d58fc338",
   "metadata": {},
   "outputs": [],
   "source": [
    "def create_noise_files(noise_name):\n",
    "    multipliers = [0.2, 0.3, 0.4, 0.5, 0.8, 0.9, 1, 1.1, 1.5, 2, 2.5, 3, 4, 6, 8, 10, 14, 20, 30, 50, 100]\n",
    "    s, fs = librosa.load(os.path.join('..\\\\data\\\\snr_test\\\\clean_voice', clean_voices_list[0]))\n",
    "    s_norm = librosa.util.normalize(s)\n",
    "    snrs = []\n",
    "    n, _ = librosa.load(os.path.join('..\\\\data\\\\snr_test\\\\noise', noise_name))\n",
    "    n_norm = librosa.util.normalize(n)\n",
    "    for i, multiplier in enumerate(multipliers):\n",
    "        snrs.append(snr_db(s_norm, n_norm * multiplier))\n",
    "        apply_noise('..\\\\data\\\\snr_test\\\\noisy_voice\\\\',\n",
    "                                   f'{clean_voices_list[0][:-9]}{i}_{noise_name}', s_norm, n_norm * multiplier, fs)\n",
    "    print(snrs)\n",
    "    \n",
    "def denoise_files():\n",
    "    noisy_voices_list = sorted(glob('..\\\\data\\\\snr_test\\\\noisy_voice\\\\*'), key=len)\n",
    "    noisy_voices_list = [os.path.basename(voice) for voice in noisy_voices_list]\n",
    "    print(noisy_voices_list)\n",
    "    \n",
    "    for voice in noisy_voices_list:\n",
    "        predict(audio_input_prediction=voice, audio_output_prediction=f'pred_{voice}', path='..\\\\data\\\\snr_test\\\\')\n",
    "        \n",
    "def calculate_psnrs():\n",
    "    original, fs = librosa.load(os.path.join('..\\\\data\\\\snr_test\\\\clean_voice', clean_voices_list[0]))\n",
    "    original_norm = librosa.util.normalize(original)\n",
    "    # predicted_voices_list = glob('..\\\\data\\\\snr_test\\\\save_prediction\\\\*')\n",
    "    predicted_voices_list = sorted(glob('..\\\\data\\\\snr_test\\\\save_prediction\\\\*'), key=len)\n",
    "    predicted_voices_list = [os.path.basename(voice) for voice in predicted_voices_list]\n",
    "    print(predicted_voices_list)\n",
    "\n",
    "    psnrs = []\n",
    "    for voice in predicted_voices_list:\n",
    "        pred, fs = librosa.load(os.path.join('..\\\\data\\\\snr_test\\\\save_prediction', voice))\n",
    "        psnrs.append(psnr(original_norm[:pred.shape[0]], pred))\n",
    "    print(psnrs)\n",
    "    \n",
    "    fig, ax = plt.subplots(figsize=(10, 5))\n",
    "    ax.plot(snrs, psnrs)\n",
    "    ax.invert_xaxis()\n",
    "    ax.set_xlabel('SNR [dB]')\n",
    "    ax.set_ylabel('PSNR predict to clean [dB]')\n",
    "    \n",
    "def clean_files():\n",
    "    files = glob('..\\\\data\\\\snr_test\\\\save_prediction\\\\*')\n",
    "    for f in files:\n",
    "        os.remove(f)\n",
    "        \n",
    "    files = glob('..\\\\data\\\\snr_test\\\\noisy_voice\\\\*')\n",
    "    for f in files:\n",
    "        os.remove(f) "
   ]
  },
  {
   "cell_type": "markdown",
   "id": "3a45a512-28a0-490c-a288-13c916429ddf",
   "metadata": {},
   "source": [
    "## Marcin voice - keyboard noise"
   ]
  },
  {
   "cell_type": "code",
   "execution_count": 29,
   "id": "a279c6b7-8c1e-49f2-9136-c3df6804e781",
   "metadata": {},
   "outputs": [],
   "source": [
    "%%capture\n",
    "clean_files()\n",
    "create_noise_files('keyboard.wav')\n",
    "denoise_files()"
   ]
  },
  {
   "cell_type": "markdown",
   "id": "6bc1b27e-cd6d-4322-982a-c1b9bf3a656e",
   "metadata": {},
   "source": [
    "### Input SNR and predicted PSNR relationship"
   ]
  },
  {
   "cell_type": "code",
   "execution_count": 30,
   "id": "a03d51e8-c5c9-4fdc-84ab-e14885371a06",
   "metadata": {},
   "outputs": [
    {
     "name": "stdout",
     "output_type": "stream",
     "text": [
      "['pred_marcin_0_keyboard.wav', 'pred_marcin_1_keyboard.wav', 'pred_marcin_2_keyboard.wav', 'pred_marcin_3_keyboard.wav', 'pred_marcin_4_keyboard.wav', 'pred_marcin_5_keyboard.wav', 'pred_marcin_6_keyboard.wav', 'pred_marcin_7_keyboard.wav', 'pred_marcin_8_keyboard.wav', 'pred_marcin_9_keyboard.wav', 'pred_marcin_10_keyboard.wav', 'pred_marcin_11_keyboard.wav', 'pred_marcin_12_keyboard.wav', 'pred_marcin_13_keyboard.wav', 'pred_marcin_14_keyboard.wav', 'pred_marcin_15_keyboard.wav', 'pred_marcin_16_keyboard.wav', 'pred_marcin_17_keyboard.wav', 'pred_marcin_18_keyboard.wav', 'pred_marcin_19_keyboard.wav', 'pred_marcin_20_keyboard.wav']\n",
      "[25.0, 24.96, 24.95, 24.95, 24.96, 24.94, 24.92, 24.91, 24.83, 24.63, 24.08, 23.34, 22.04, 20.28, 19.51, 19.04, 18.73, 18.56, 18.4, 18.33, 18.28]\n"
     ]
    },
    {
     "data": {
      "image/png": "[encoded data removed]",
      "text/plain": [
       "<Figure size 720x360 with 1 Axes>"
      ]
     },
     "metadata": {
      "needs_background": "light"
     },
     "output_type": "display_data"
    }
   ],
   "source": [
    "calculate_psnrs()"
   ]
  },
  {
   "cell_type": "markdown",
   "id": "4e0239c4-8441-4b21-8280-17575ab9ae21",
   "metadata": {},
   "source": [
    "## Marcin voice - birds noise"
   ]
  },
  {
   "cell_type": "code",
   "execution_count": 31,
   "id": "2fd2da65-4613-44ae-b52d-c7b1d00acdc7",
   "metadata": {},
   "outputs": [],
   "source": [
    "%%capture\n",
    "clean_files()\n",
    "create_noise_files('birds.wav')\n",
    "denoise_files()"
   ]
  },
  {
   "cell_type": "markdown",
   "id": "17749729-9d06-44b1-89cf-f826fe03d4aa",
   "metadata": {},
   "source": [
    "### Input SNR and predicted PSNR relationship"
   ]
  },
  {
   "cell_type": "code",
   "execution_count": 32,
   "id": "72778c24-0c12-4525-9a80-7885b0d8b942",
   "metadata": {},
   "outputs": [
    {
     "name": "stdout",
     "output_type": "stream",
     "text": [
      "['pred_marcin_0_birds.wav', 'pred_marcin_1_birds.wav', 'pred_marcin_2_birds.wav', 'pred_marcin_3_birds.wav', 'pred_marcin_4_birds.wav', 'pred_marcin_5_birds.wav', 'pred_marcin_6_birds.wav', 'pred_marcin_7_birds.wav', 'pred_marcin_8_birds.wav', 'pred_marcin_9_birds.wav', 'pred_marcin_10_birds.wav', 'pred_marcin_11_birds.wav', 'pred_marcin_12_birds.wav', 'pred_marcin_13_birds.wav', 'pred_marcin_14_birds.wav', 'pred_marcin_15_birds.wav', 'pred_marcin_16_birds.wav', 'pred_marcin_17_birds.wav', 'pred_marcin_18_birds.wav', 'pred_marcin_19_birds.wav', 'pred_marcin_20_birds.wav']\n",
      "[24.7, 24.48, 24.17, 23.91, 22.93, 22.49, 22.06, 21.71, 20.6, 19.7, 19.24, 18.98, 18.72, 18.48, 18.37, 18.31, 18.24, 18.2, 18.16, 18.14, 18.12]\n"
     ]
    },
    {
     "data": {
      "image/png": "[encoded data removed]",
      "text/plain": [
       "<Figure size 720x360 with 1 Axes>"
      ]
     },
     "metadata": {
      "needs_background": "light"
     },
     "output_type": "display_data"
    }
   ],
   "source": [
    "calculate_psnrs()"
   ]
  },
  {
   "cell_type": "markdown",
   "id": "3a884fe8-a1d6-4aa3-8dd6-bd5e246aa29d",
   "metadata": {},
   "source": [
    "## Marcin voice - mouseclicks noise"
   ]
  },
  {
   "cell_type": "code",
   "execution_count": 35,
   "id": "08a313fd-f631-4c14-96a3-8205ea13d706",
   "metadata": {},
   "outputs": [],
   "source": [
    "%%capture\n",
    "clean_files()\n",
    "create_noise_files('mouse.wav')\n",
    "denoise_files()"
   ]
  },
  {
   "cell_type": "markdown",
   "id": "1a8c40dc-f46b-47dd-8390-a210af292d98",
   "metadata": {},
   "source": [
    "### Input SNR and predicted PSNR relationship"
   ]
  },
  {
   "cell_type": "code",
   "execution_count": 36,
   "id": "74ee21ff-c6c5-4d9b-a2e7-074d77e992f2",
   "metadata": {},
   "outputs": [
    {
     "name": "stdout",
     "output_type": "stream",
     "text": [
      "['pred_marcin_0_mouse.wav', 'pred_marcin_1_mouse.wav', 'pred_marcin_2_mouse.wav', 'pred_marcin_3_mouse.wav', 'pred_marcin_4_mouse.wav', 'pred_marcin_5_mouse.wav', 'pred_marcin_6_mouse.wav', 'pred_marcin_7_mouse.wav', 'pred_marcin_8_mouse.wav', 'pred_marcin_9_mouse.wav', 'pred_marcin_10_mouse.wav', 'pred_marcin_11_mouse.wav', 'pred_marcin_12_mouse.wav', 'pred_marcin_13_mouse.wav', 'pred_marcin_14_mouse.wav', 'pred_marcin_15_mouse.wav', 'pred_marcin_16_mouse.wav', 'pred_marcin_17_mouse.wav', 'pred_marcin_18_mouse.wav', 'pred_marcin_19_mouse.wav', 'pred_marcin_20_mouse.wav']\n",
      "[25.19, 25.13, 25.05, 25.0, 24.93, 24.93, 24.92, 24.91, 24.84, 24.71, 24.47, 24.08, 23.46, 22.79, 22.46, 22.3, 21.68, 20.74, 19.82, 18.99, 18.48]\n"
     ]
    },
    {
     "data": {
      "image/png": "[encoded data removed]",
      "text/plain": [
       "<Figure size 720x360 with 1 Axes>"
      ]
     },
     "metadata": {
      "needs_background": "light"
     },
     "output_type": "display_data"
    }
   ],
   "source": [
    "calculate_psnrs()"
   ]
  }
 ],
 "metadata": {
  "kernelspec": {
   "display_name": "Python 3",
   "language": "python",
   "name": "python3"
  },
  "language_info": {
   "codemirror_mode": {
    "name": "ipython",
    "version": 3
   },
   "file_extension": ".py",
   "mimetype": "text/x-python",
   "name": "python",
   "nbconvert_exporter": "python",
   "pygments_lexer": "ipython3",
   "version": "3.8.8"
  }
 },
 "nbformat": 4,
 "nbformat_minor": 5
}
