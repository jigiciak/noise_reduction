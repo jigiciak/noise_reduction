{
 "cells": [
  {
   "cell_type": "code",
   "execution_count": 1,
   "id": "15e89ca8",
   "metadata": {},
   "outputs": [],
   "source": [
    "import os, sys, inspect\n",
    "currentdir = os.path.dirname(os.path.abspath(inspect.getfile(inspect.currentframe())))\n",
    "sys.path.append('..')\n",
    "from prediction_denoise import prediction, predict\n",
    "from glob import glob\n",
    "import numpy as np\n",
    "import librosa\n",
    "import IPython.display as ipd\n",
    "from signal_utils import audio_files_to_numpy, numpy_audio_to_matrix_spectrogram, snr_db, psnr, apply_noise\n",
    "from data_plot import plot_spectrogram, plot_3_spectograms\n",
    "import matplotlib.pyplot as plt"
   ]
  },
  {
   "cell_type": "markdown",
   "id": "69ddf2de",
   "metadata": {},
   "source": [
    "# Comparision of different SNR"
   ]
  },
  {
   "cell_type": "markdown",
   "id": "6896fd80",
   "metadata": {},
   "source": [
    "## Read clean voices"
   ]
  },
  {
   "cell_type": "code",
   "execution_count": 2,
   "id": "439d2616",
   "metadata": {},
   "outputs": [
    {
     "name": "stdout",
     "output_type": "stream",
     "text": [
      "['marcin_clean.wav']\n"
     ]
    }
   ],
   "source": [
    "clean_voices_list = glob('..\\\\data\\\\snr_test\\\\clean_voice\\\\*')\n",
    "clean_voices_list = [os.path.basename(voice) for voice in clean_voices_list]\n",
    "print(clean_voices_list)"
   ]
  },
  {
   "cell_type": "markdown",
   "id": "41ce4e5d",
   "metadata": {},
   "source": [
    "## Read noises"
   ]
  },
  {
   "cell_type": "code",
   "execution_count": 3,
   "id": "bef94a15",
   "metadata": {},
   "outputs": [
    {
     "name": "stdout",
     "output_type": "stream",
     "text": [
      "['birds.wav', 'keyboard.wav', 'mouse.wav']\n"
     ]
    }
   ],
   "source": [
    "noises_list = glob('..\\\\data\\\\snr_test\\\\noise\\\\*')\n",
    "noises_list = [os.path.basename(noise) for noise in noises_list]\n",
    "print(noises_list)"
   ]
  },
  {
   "cell_type": "markdown",
   "id": "c7697e85",
   "metadata": {
    "tags": []
   },
   "source": [
    "## Apply noise and compare"
   ]
  },
  {
   "cell_type": "code",
   "execution_count": 4,
   "id": "926d1f6d",
   "metadata": {},
   "outputs": [],
   "source": [
    "def create_noise_files(noise_name):\n",
    "    multipliers = [0.1, 0.2, 0.3, 0.4, 0.5, 0.8, 0.9, 1, 1.1, 1.5, 2, 2.5, 3, 4, 6, 8, 10, 14, 20, 30, 50, 100, 200]\n",
    "    s, fs = librosa.load(os.path.join('..\\\\data\\\\snr_test\\\\clean_voice', clean_voices_list[0]))\n",
    "    s_norm = librosa.util.normalize(s)\n",
    "    snrs = []\n",
    "    n, _ = librosa.load(os.path.join('..\\\\data\\\\snr_test\\\\noise', noise_name))\n",
    "    n_norm = librosa.util.normalize(n)\n",
    "    for i, multiplier in enumerate(multipliers):\n",
    "        snrs.append(snr_db(s_norm, n_norm * multiplier))\n",
    "        apply_noise('..\\\\data\\\\snr_test\\\\noisy_voice\\\\',\n",
    "                                   f'{clean_voices_list[0][:-9]}{i}_{noise_name}', s_norm, n_norm * multiplier, fs)\n",
    "    print(snrs)\n",
    "    return snrs\n",
    "    \n",
    "def denoise_files():\n",
    "    noisy_voices_list = sorted(glob('..\\\\data\\\\snr_test\\\\noisy_voice\\\\*'), key=len)\n",
    "    noisy_voices_list = [os.path.basename(voice) for voice in noisy_voices_list]\n",
    "    print(noisy_voices_list)\n",
    "    \n",
    "    for voice in noisy_voices_list:\n",
    "        predict(audio_input_prediction=voice, audio_output_prediction=f'pred_{voice}', path='..\\\\data\\\\snr_test\\\\')\n",
    "        \n",
    "def calculate_psnrs():\n",
    "    original, fs = librosa.load(os.path.join('..\\\\data\\\\snr_test\\\\clean_voice', clean_voices_list[0]))\n",
    "    original_norm = librosa.util.normalize(original)\n",
    "    # predicted_voices_list = glob('..\\\\data\\\\snr_test\\\\save_prediction\\\\*')\n",
    "    predicted_voices_list = sorted(glob('..\\\\data\\\\snr_test\\\\save_prediction\\\\*'), key=len)\n",
    "    predicted_voices_list = [os.path.basename(voice) for voice in predicted_voices_list]\n",
    "    print(predicted_voices_list)\n",
    "\n",
    "    psnrs = []\n",
    "    for voice in predicted_voices_list:\n",
    "        pred, fs = librosa.load(os.path.join('..\\\\data\\\\snr_test\\\\save_prediction', voice))\n",
    "        psnrs.append(psnr(original_norm[:pred.shape[0]], pred))\n",
    "    print(psnrs)\n",
    "    \n",
    "    fig, ax = plt.subplots(figsize=(10, 5))\n",
    "    ax.plot(snrs, psnrs)\n",
    "    ax.invert_xaxis()\n",
    "    ax.set_xlabel('SNR [dB]')\n",
    "    ax.set_ylabel('PSNR predict to clean [dB]')\n",
    "    \n",
    "def clean_files():\n",
    "    files = glob('..\\\\data\\\\snr_test\\\\save_prediction\\\\*')\n",
    "    for f in files:\n",
    "        os.remove(f)\n",
    "        \n",
    "    files = glob('..\\\\data\\\\snr_test\\\\noisy_voice\\\\*')\n",
    "    for f in files:\n",
    "        os.remove(f) "
   ]
  },
  {
   "cell_type": "markdown",
   "id": "f24f3ee6",
   "metadata": {},
   "source": [
    "## Marcin voice - keyboard noise"
   ]
  },
  {
   "cell_type": "code",
   "execution_count": 5,
   "id": "4e937c07",
   "metadata": {},
   "outputs": [
    {
     "name": "stdout",
     "output_type": "stream",
     "text": [
      "WARNING:tensorflow:5 out of the last 5 calls to <function Model.make_predict_function.<locals>.predict_function at 0x0000021C4703C8B0> triggered tf.function retracing. Tracing is expensive and the excessive number of tracings could be due to (1) creating @tf.function repeatedly in a loop, (2) passing tensors with different shapes, (3) passing Python objects instead of tensors. For (1), please define your @tf.function outside of the loop. For (2), @tf.function has experimental_relax_shapes=True option that relaxes argument shapes that can avoid unnecessary retracing. For (3), please refer to https://www.tensorflow.org/guide/function#controlling_retracing and https://www.tensorflow.org/api_docs/python/tf/function for  more details.\n",
      "WARNING:tensorflow:6 out of the last 6 calls to <function Model.make_predict_function.<locals>.predict_function at 0x0000021C4703CDC0> triggered tf.function retracing. Tracing is expensive and the excessive number of tracings could be due to (1) creating @tf.function repeatedly in a loop, (2) passing tensors with different shapes, (3) passing Python objects instead of tensors. For (1), please define your @tf.function outside of the loop. For (2), @tf.function has experimental_relax_shapes=True option that relaxes argument shapes that can avoid unnecessary retracing. For (3), please refer to https://www.tensorflow.org/guide/function#controlling_retracing and https://www.tensorflow.org/api_docs/python/tf/function for  more details.\n"
     ]
    }
   ],
   "source": [
    "%%capture\n",
    "clean_files()\n",
    "snrs = create_noise_files('keyboard.wav')\n",
    "denoise_files()"
   ]
  },
  {
   "cell_type": "markdown",
   "id": "9ecc43fc",
   "metadata": {},
   "source": [
    "### Input SNR and predicted PSNR relationship"
   ]
  },
  {
   "cell_type": "code",
   "execution_count": 6,
   "id": "4c701db1",
   "metadata": {},
   "outputs": [
    {
     "name": "stdout",
     "output_type": "stream",
     "text": [
      "['pred_marcin_0_keyboard.wav', 'pred_marcin_1_keyboard.wav', 'pred_marcin_2_keyboard.wav', 'pred_marcin_3_keyboard.wav', 'pred_marcin_4_keyboard.wav', 'pred_marcin_5_keyboard.wav', 'pred_marcin_6_keyboard.wav', 'pred_marcin_7_keyboard.wav', 'pred_marcin_8_keyboard.wav', 'pred_marcin_9_keyboard.wav', 'pred_marcin_10_keyboard.wav', 'pred_marcin_11_keyboard.wav', 'pred_marcin_12_keyboard.wav', 'pred_marcin_13_keyboard.wav', 'pred_marcin_14_keyboard.wav', 'pred_marcin_15_keyboard.wav', 'pred_marcin_16_keyboard.wav', 'pred_marcin_17_keyboard.wav', 'pred_marcin_18_keyboard.wav', 'pred_marcin_19_keyboard.wav', 'pred_marcin_20_keyboard.wav', 'pred_marcin_21_keyboard.wav', 'pred_marcin_22_keyboard.wav']\n",
      "[25.04, 25.0, 24.96, 24.95, 24.95, 24.96, 24.94, 24.92, 24.91, 24.83, 24.63, 24.08, 23.34, 22.04, 20.28, 19.51, 19.04, 18.73, 18.56, 18.4, 18.33, 18.28, 18.26]\n"
     ]
    },
    {
     "data": {
      "image/png": "[encoded data removed]",
      "text/plain": [
       "<Figure size 720x360 with 1 Axes>"
      ]
     },
     "metadata": {
      "needs_background": "light"
     },
     "output_type": "display_data"
    }
   ],
   "source": [
    "calculate_psnrs()"
   ]
  },
  {
   "cell_type": "markdown",
   "id": "11486200",
   "metadata": {},
   "source": [
    "## Marcin voice - birds noise"
   ]
  },
  {
   "cell_type": "code",
   "execution_count": 7,
   "id": "59a1ea14",
   "metadata": {},
   "outputs": [],
   "source": [
    "%%capture\n",
    "clean_files()\n",
    "snrs = create_noise_files('birds.wav')\n",
    "denoise_files()"
   ]
  },
  {
   "cell_type": "markdown",
   "id": "1c5d9eb5",
   "metadata": {},
   "source": [
    "### Input SNR and predicted PSNR relationship"
   ]
  },
  {
   "cell_type": "code",
   "execution_count": 8,
   "id": "7dbaafaa",
   "metadata": {},
   "outputs": [
    {
     "name": "stdout",
     "output_type": "stream",
     "text": [
      "['pred_marcin_0_birds.wav', 'pred_marcin_1_birds.wav', 'pred_marcin_2_birds.wav', 'pred_marcin_3_birds.wav', 'pred_marcin_4_birds.wav', 'pred_marcin_5_birds.wav', 'pred_marcin_6_birds.wav', 'pred_marcin_7_birds.wav', 'pred_marcin_8_birds.wav', 'pred_marcin_9_birds.wav', 'pred_marcin_10_birds.wav', 'pred_marcin_11_birds.wav', 'pred_marcin_12_birds.wav', 'pred_marcin_13_birds.wav', 'pred_marcin_14_birds.wav', 'pred_marcin_15_birds.wav', 'pred_marcin_16_birds.wav', 'pred_marcin_17_birds.wav', 'pred_marcin_18_birds.wav', 'pred_marcin_19_birds.wav', 'pred_marcin_20_birds.wav', 'pred_marcin_21_birds.wav', 'pred_marcin_22_birds.wav']\n",
      "[24.89, 24.7, 24.48, 24.17, 23.91, 22.93, 22.49, 22.06, 21.71, 20.6, 19.7, 19.24, 18.98, 18.72, 18.48, 18.37, 18.31, 18.24, 18.2, 18.16, 18.14, 18.12, 18.11]\n"
     ]
    },
    {
     "data": {
      "image/png": "[encoded data removed]",
      "text/plain": [
       "<Figure size 720x360 with 1 Axes>"
      ]
     },
     "metadata": {
      "needs_background": "light"
     },
     "output_type": "display_data"
    }
   ],
   "source": [
    "calculate_psnrs()"
   ]
  },
  {
   "cell_type": "markdown",
   "id": "c72bc15d",
   "metadata": {},
   "source": [
    "## Marcin voice - mouseclicks noise"
   ]
  },
  {
   "cell_type": "code",
   "execution_count": 9,
   "id": "d3b33ac2",
   "metadata": {},
   "outputs": [],
   "source": [
    "%%capture\n",
    "clean_files()\n",
    "snrs = create_noise_files('mouse.wav')\n",
    "denoise_files()"
   ]
  },
  {
   "cell_type": "markdown",
   "id": "0f5a4cba",
   "metadata": {},
   "source": [
    "### Input SNR and predicted PSNR relationship"
   ]
  },
  {
   "cell_type": "code",
   "execution_count": 10,
   "id": "bc190cac",
   "metadata": {},
   "outputs": [
    {
     "name": "stdout",
     "output_type": "stream",
     "text": [
      "['pred_marcin_0_mouse.wav', 'pred_marcin_1_mouse.wav', 'pred_marcin_2_mouse.wav', 'pred_marcin_3_mouse.wav', 'pred_marcin_4_mouse.wav', 'pred_marcin_5_mouse.wav', 'pred_marcin_6_mouse.wav', 'pred_marcin_7_mouse.wav', 'pred_marcin_8_mouse.wav', 'pred_marcin_9_mouse.wav', 'pred_marcin_10_mouse.wav', 'pred_marcin_11_mouse.wav', 'pred_marcin_12_mouse.wav', 'pred_marcin_13_mouse.wav', 'pred_marcin_14_mouse.wav', 'pred_marcin_15_mouse.wav', 'pred_marcin_16_mouse.wav', 'pred_marcin_17_mouse.wav', 'pred_marcin_18_mouse.wav', 'pred_marcin_19_mouse.wav', 'pred_marcin_20_mouse.wav', 'pred_marcin_21_mouse.wav', 'pred_marcin_22_mouse.wav']\n",
      "[25.25, 25.19, 25.13, 25.05, 25.0, 24.93, 24.93, 24.92, 24.91, 24.84, 24.71, 24.47, 24.08, 23.46, 22.79, 22.46, 22.3, 21.68, 20.74, 19.82, 18.99, 18.48, 18.26]\n"
     ]
    },
    {
     "data": {
      "image/png": "[encoded data removed]",
      "text/plain": [
       "<Figure size 720x360 with 1 Axes>"
      ]
     },
     "metadata": {
      "needs_background": "light"
     },
     "output_type": "display_data"
    }
   ],
   "source": [
    "calculate_psnrs()"
   ]
  }
 ],
 "metadata": {
  "kernelspec": {
   "display_name": "Python 3",
   "language": "python",
   "name": "python3"
  },
  "language_info": {
   "codemirror_mode": {
    "name": "ipython",
    "version": 3
   },
   "file_extension": ".py",
   "mimetype": "text/x-python",
   "name": "python",
   "nbconvert_exporter": "python",
   "pygments_lexer": "ipython3",
   "version": "3.8.8"
  }
 },
 "nbformat": 4,
 "nbformat_minor": 5
}
